{
 "cells": [
  {
   "cell_type": "markdown",
   "id": "858f990d",
   "metadata": {},
   "source": [
    "### Question 1\n",
    "Given an integer array nums of length n and an integer target, find three integers\n",
    "in nums such that the sum is closest to the target.\n",
    "Return the sum of the three integers.\n",
    "\n",
    "You may assume that each input would have exactly one solution.\n",
    "\n",
    "Example 1:\n",
    "Input: nums = [-1,2,1,-4], target = 1\n",
    "Output: 2\n",
    "\n",
    "Explanation: The sum that is closest to the target is 2. (-1 + 2 + 1 = 2)."
   ]
  },
  {
   "cell_type": "code",
   "execution_count": 23,
   "id": "5e8f3ded",
   "metadata": {},
   "outputs": [],
   "source": [
    "class Solution:\n",
    "    def threeSumClosest(nums, target):\n",
    "        closest = nums[0]+nums[1]+nums[2]\n",
    "        nums.sort()\n",
    "        for i in range(len(nums)-2):\n",
    "            l = i+1\n",
    "            r = len(nums)-1\n",
    "            while l<r:\n",
    "                total = nums[i] + nums[l] + nums[r]\n",
    "                if abs(total-target) < abs(target-closest):\n",
    "                    closest = total\n",
    "                if total>target:\n",
    "                    r-=1\n",
    "                elif total<target:\n",
    "                    l+=1\n",
    "                else:\n",
    "                    return closest\n",
    "        return closest"
   ]
  },
  {
   "cell_type": "code",
   "execution_count": 24,
   "id": "27838a15",
   "metadata": {},
   "outputs": [
    {
     "name": "stdout",
     "output_type": "stream",
     "text": [
      "2\n"
     ]
    }
   ],
   "source": [
    "nums = [-1,2,1,-4]\n",
    "target = 1\n",
    "close = Solution.threeSumClosest(nums, target)\n",
    "print(close)"
   ]
  },
  {
   "cell_type": "markdown",
   "id": "258e4226",
   "metadata": {},
   "source": [
    " **Question 2**\n",
    "Given an array nums of n integers, return an array of all the unique quadruplets\n",
    "\n",
    "[nums[a], nums[b], nums[c], nums[d]] such that:\n",
    "\n",
    "● 0 <= a, b, c, d < n\n",
    "\n",
    "● a, b, c, and d are distinct.\n",
    "\n",
    "● nums[a] + nums[b] + nums[c] + nums[d] == target\n",
    "\n",
    "You may return the answer in any order.\n",
    "\n",
    "**Example 1:**\n",
    "Input: nums = [1,0,-1,0,-2,2], target = 0\n",
    "Output: [[-2,-1,1,2],[-2,0,0,2],[-1,0,0,1]]\n"
   ]
  },
  {
   "cell_type": "code",
   "execution_count": 30,
   "id": "eb07ebdb",
   "metadata": {},
   "outputs": [
    {
     "data": {
      "text/plain": [
       "[(-2, -1, 1, 2), (-2, 0, 0, 2), (-1, 0, 0, 1)]"
      ]
     },
     "execution_count": 30,
     "metadata": {},
     "output_type": "execute_result"
    }
   ],
   "source": [
    "def fourSum(nums, target):\n",
    "    ans = []\n",
    "    nums.sort()\n",
    "    for i in range(len(nums)):\n",
    "        for j in range(i+1,len(nums)):\n",
    "            k,l = j+1,len(nums)-1\n",
    "            while k<l:\n",
    "                s = nums[i]+nums[j]+nums[k]+nums[l]\n",
    "                if s == target:\n",
    "                    ans.append((nums[i],nums[j],nums[k],nums[l]))\n",
    "                    l-=1\n",
    "                    k+=1\n",
    "                elif s > target:\n",
    "                    l-=1\n",
    "                else:\n",
    "                    k+=1\n",
    "\n",
    "    return ans\n",
    "\n",
    "fourSum( [1,0,-1,0,-2,2], 0)"
   ]
  },
  {
   "cell_type": "markdown",
   "id": "7cbc280e",
   "metadata": {},
   "source": [
    "# <aside>\n",
    "**Question 3**\n",
    "A permutation of an array of integers is an arrangement of its members into a\n",
    "sequence or linear order.\n",
    "\n",
    "For example, for arr = [1,2,3], the following are all the permutations of arr:\n",
    "[1,2,3], [1,3,2], [2, 1, 3], [2, 3, 1], [3,1,2], [3,2,1].\n",
    "\n",
    "The next permutation of an array of integers is the next lexicographically greater\n",
    "permutation of its integer. More formally, if all the permutations of the array are\n",
    "sorted in one container according to their lexicographical order, then the next\n",
    "permutation of that array is the permutation that follows it in the sorted container.\n",
    "\n",
    "If such an arrangement is not possible, the array must be rearranged as the\n",
    "lowest possible order (i.e., sorted in ascending order).\n",
    "\n",
    "● For example, the next permutation of arr = [1,2,3] is [1,3,2].\n",
    "● Similarly, the next permutation of arr = [2,3,1] is [3,1,2].\n",
    "● While the next permutation of arr = [3,2,1] is [1,2,3] because [3,2,1] does not\n",
    "have a lexicographical larger rearrangement.\n",
    "\n",
    "Given an array of integers nums, find the next permutation of nums.\n",
    "The replacement must be in place and use only constant extra memory.\n",
    "\n",
    "**Example 1:**\n",
    "Input: nums = [1,2,3]\n",
    "Output: [1,3,2]\n",
    "\n",
    "</aside>"
   ]
  },
  {
   "cell_type": "code",
   "execution_count": 32,
   "id": "ea8e3d14",
   "metadata": {},
   "outputs": [
    {
     "data": {
      "text/plain": [
       "[1, 3, 2]"
      ]
     },
     "execution_count": 32,
     "metadata": {},
     "output_type": "execute_result"
    }
   ],
   "source": [
    "def nextPermutation(nums):\n",
    "    l=len(nums)-2\n",
    "    while l>=0:\n",
    "        if nums[l]<nums[l+1]:\n",
    "            s=len(nums)-1\n",
    "            while s>l:\n",
    "                if nums[s]>nums[l]:\n",
    "                    nums[l],nums[s]=nums[s],nums[l] \n",
    "                    arr=(nums[:l+1]+sorted(nums[l+1:]))\n",
    "                    nums[:]=arr[:]\n",
    "                    return nums\n",
    "                s-=1\n",
    "        l-=1\n",
    "    else:\n",
    "        nums.reverse()\n",
    "        return nums\n",
    "    \n",
    "nextPermutation([1,2,3])"
   ]
  },
  {
   "cell_type": "markdown",
   "id": "78eb74eb",
   "metadata": {},
   "source": [
    "# <aside>\n",
    "**Question 4**\n",
    "Given a sorted array of distinct integers and a target value, return the index if the\n",
    "target is found. If not, return the index where it would be if it were inserted in\n",
    "order.\n",
    "\n",
    "You must write an algorithm with O(log n) runtime complexity.\n",
    "\n",
    "**Example 1:**\n",
    "Input: nums = [1,3,5,6], target = 5\n",
    "Output: 2"
   ]
  },
  {
   "cell_type": "code",
   "execution_count": 33,
   "id": "0415aa18",
   "metadata": {},
   "outputs": [
    {
     "data": {
      "text/plain": [
       "2"
      ]
     },
     "execution_count": 33,
     "metadata": {},
     "output_type": "execute_result"
    }
   ],
   "source": [
    "def searchInsert(nums, target):\n",
    "    left = 0\n",
    "    right = len(nums) - 1\n",
    "\n",
    "    while left <= right:\n",
    "        mid = left + (right - left) // 2\n",
    "        if nums[mid] == target:\n",
    "            return mid\n",
    "        elif nums[mid] < target:\n",
    "            left = mid + 1\n",
    "        else:\n",
    "            right = mid - 1\n",
    "\n",
    "    return left\n",
    "\n",
    "searchInsert([1,3,5,6], 5)"
   ]
  },
  {
   "cell_type": "markdown",
   "id": "c06d7711",
   "metadata": {},
   "source": [
    "# <aside>\n",
    "**Question 5**\n",
    "You are given a large integer represented as an integer array digits, where each\n",
    "digits[i] is the ith digit of the integer. The digits are ordered from most significant\n",
    "to least significant in left-to-right order. The large integer does not contain any\n",
    "leading 0's.\n",
    "\n",
    "Increment the large integer by one and return the resulting array of digits.\n",
    "\n",
    "**Example 1:**\n",
    "Input: digits = [1,2,3]\n",
    "Output: [1,2,4]\n",
    "\n",
    "**Explanation:** The array represents the integer 123.\n",
    "Incrementing by one gives 123 + 1 = 124.\n",
    "Thus, the result should be [1,2,4].\n",
    "\n",
    "</aside>"
   ]
  },
  {
   "cell_type": "code",
   "execution_count": 34,
   "id": "b3ca093c",
   "metadata": {},
   "outputs": [
    {
     "data": {
      "text/plain": [
       "[1, 2, 4]"
      ]
     },
     "execution_count": 34,
     "metadata": {},
     "output_type": "execute_result"
    }
   ],
   "source": [
    "def plusOne(digits):\n",
    "    n = len(digits)\n",
    "    carry = 1  # Start with a carry of 1\n",
    "\n",
    "    for i in range(n - 1, -1, -1):\n",
    "        digit_sum = digits[i] + carry\n",
    "        digits[i] = digit_sum % 10\n",
    "        carry = digit_sum // 10\n",
    "\n",
    "    if carry != 0:\n",
    "        digits.insert(0, carry)\n",
    "\n",
    "    return digits\n",
    "\n",
    "plusOne([1,2,3])"
   ]
  },
  {
   "cell_type": "markdown",
   "id": "f3e7bd85",
   "metadata": {},
   "source": [
    "**Question 6**\n",
    "Given a non-empty array of integers nums, every element appears twice except\n",
    "for one. Find that single one.\n",
    "\n",
    "You must implement a solution with a linear runtime complexity and use only\n",
    "constant extra space.\n",
    "\n",
    "**Example 1:**\n",
    "Input: nums = [2,2,1]\n",
    "Output: 1"
   ]
  },
  {
   "cell_type": "code",
   "execution_count": 38,
   "id": "92b862c5",
   "metadata": {},
   "outputs": [
    {
     "data": {
      "text/plain": [
       "1"
      ]
     },
     "execution_count": 38,
     "metadata": {},
     "output_type": "execute_result"
    }
   ],
   "source": [
    "def singleNumber(nums):\n",
    "    result = 0\n",
    "\n",
    "    for num in nums:\n",
    "        result ^= num\n",
    "\n",
    "    return result\n",
    "\n",
    "\n",
    "singleNumber([2,2,1])"
   ]
  },
  {
   "cell_type": "markdown",
   "id": "a02ce9ae",
   "metadata": {},
   "source": [
    "**Question 7**\n",
    "You are given an inclusive range [lower, upper] and a sorted unique integer array\n",
    "nums, where all elements are within the inclusive range.\n",
    "\n",
    "A number x is considered missing if x is in the range [lower, upper] and x is not in\n",
    "nums.\n",
    "\n",
    "Return the shortest sorted list of ranges that exactly covers all the missing\n",
    "numbers. That is, no element of nums is included in any of the ranges, and each\n",
    "missing number is covered by one of the ranges.\n",
    "\n",
    "**Example 1:**\n",
    "Input: nums = [0,1,3,50,75], lower = 0, upper = 99\n",
    "Output: [[2,2],[4,49],[51,74],[76,99]]\n",
    "\n",
    "**Explanation:** The ranges are:\n",
    "[2,2]\n",
    "[4,49]\n",
    "[51,74]\n",
    "[76,99]"
   ]
  },
  {
   "cell_type": "code",
   "execution_count": 42,
   "id": "ce00c12e",
   "metadata": {},
   "outputs": [
    {
     "data": {
      "text/plain": [
       "['2', '4->49', '51->74', '76->99']"
      ]
     },
     "execution_count": 42,
     "metadata": {},
     "output_type": "execute_result"
    }
   ],
   "source": [
    "def findMissingRanges(nums, lower, upper):\n",
    "    missing_ranges = []\n",
    "    start = lower\n",
    "\n",
    "    for num in nums:\n",
    "        if num > start:\n",
    "            missing_ranges.append(getRange(start, num - 1))\n",
    "        start = num + 1\n",
    "\n",
    "    if start <= upper:\n",
    "        missing_ranges.append(getRange(start, upper))\n",
    "\n",
    "    return missing_ranges\n",
    "\n",
    "\n",
    "def getRange(start, end):\n",
    "    if start == end:\n",
    "        return str(start)\n",
    "    else:\n",
    "        return str(start) + \"->\" + str(end)\n",
    "\n",
    "    \n",
    "findMissingRanges([0,1,3,50,75], 0, 99)"
   ]
  },
  {
   "cell_type": "markdown",
   "id": "89fb5ac5",
   "metadata": {},
   "source": [
    " **Question 8**\n",
    "Given an array of meeting time intervals where intervals[i] = [starti, endi],\n",
    "determine if a person could attend all meetings.\n",
    "\n",
    "**Example 1:**\n",
    "Input: intervals = [[0,30],[5,10],[15,20]]\n",
    "Output: false"
   ]
  },
  {
   "cell_type": "code",
   "execution_count": 41,
   "id": "35c93516",
   "metadata": {},
   "outputs": [
    {
     "data": {
      "text/plain": [
       "False"
      ]
     },
     "execution_count": 41,
     "metadata": {},
     "output_type": "execute_result"
    }
   ],
   "source": [
    "def canAttendMeetings(intervals):\n",
    "    intervals.sort(key=lambda x: x[0])\n",
    "\n",
    "    for i in range(1, len(intervals)):\n",
    "        if intervals[i][0] < intervals[i-1][1]:\n",
    "            return False\n",
    "\n",
    "    return True\n",
    "\n",
    "\n",
    "canAttendMeetings([[0,30],[5,10],[15,20]])"
   ]
  }
 ],
 "metadata": {
  "kernelspec": {
   "display_name": "Python 3 (ipykernel)",
   "language": "python",
   "name": "python3"
  },
  "language_info": {
   "codemirror_mode": {
    "name": "ipython",
    "version": 3
   },
   "file_extension": ".py",
   "mimetype": "text/x-python",
   "name": "python",
   "nbconvert_exporter": "python",
   "pygments_lexer": "ipython3",
   "version": "3.9.13"
  }
 },
 "nbformat": 4,
 "nbformat_minor": 5
}
